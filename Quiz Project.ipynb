{
 "cells": [
  {
   "cell_type": "code",
   "execution_count": null,
   "metadata": {},
   "outputs": [],
   "source": [
    "mdp = input(\"quel est le mot de passe ?\")\n",
    "\n",
    "while mdp != \"jedha\":\n",
    "    print(\"Ceci n'est pas le mot de passe\")\n",
    "    mdp = input(\"quel est le mot de passe\")\n",
    "    break\n",
    "\n",
    "nb_de_chances = 3\n",
    "\n",
    "print(\"Voici notre quiz, tu as trois chances !\")\n",
    "Question1= input(\"Combien de fois la France a gagné la coupe du monde ?\")\n",
    "while Question1 != \"2\":\n",
    "    if nb_de_chances == 0:\n",
    "        print(\"Oh non ! Tu as perdu le jeu...\")\n",
    "        break\n",
    "    else: nb_de_chances -=1\n",
    "    print(\"Dommage ! Il te reste {} chance\".format(nb_de_chances))\n",
    "    question1 = input(\"Combien de fois la France a gagné la coupe du monde ?\")\n",
    "if nb_de_chances != 0:\n",
    "    question2 = input(\"Quand a été fondé Apple\")\n",
    "        \n",
    "while question2 != \"1976\":\n",
    "    if nb_de_chances == 0:\n",
    "        print(\"Oh non ! Tu as perdu le jeu...\")\n",
    "        break\n",
    "    else: nb_de_chances -=1\n",
    "    print(\"Dommage ! Il te reste {} chances\".format(nb_de_chances))\n",
    "    question2 = input(\"Quand a été fondé Apple ?\")\n",
    "\n",
    "if nb_de_chances != 0:\n",
    "    question3 = input(\"Qui a fondé Space\")\n",
    "    question3 = question3.lower()\n",
    "        \n",
    "while question3 != \"elon musk\":\n",
    "    if nb_de_chances == 0:\n",
    "        print(\"Oh non ! Tu as perdu le jeu...\")\n",
    "        break\n",
    "    else: nb_de_chances -=1\n",
    "    print(\"Dommage ! Il te reste {} chances\".format(nb_de_chances))\n",
    "    question3 = input(\"Qui a fondé SpaceX\")\n",
    "    question3 = question3.lower()\n",
    "    \n",
    "if question3 == \"elon musk\":\n",
    "    print(\"Bravo ! Tu as gagné le quiz !\")"
   ]
  }
 ],
 "metadata": {
  "kernelspec": {
   "display_name": "Python 3",
   "language": "python",
   "name": "python3"
  },
  "language_info": {
   "codemirror_mode": {
    "name": "ipython",
    "version": 3
   },
   "file_extension": ".py",
   "mimetype": "text/x-python",
   "name": "python",
   "nbconvert_exporter": "python",
   "pygments_lexer": "ipython3",
   "version": "3.6.5"
  }
 },
 "nbformat": 4,
 "nbformat_minor": 2
}
